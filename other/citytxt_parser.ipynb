{
 "cells": [
  {
   "cell_type": "code",
   "execution_count": 8,
   "metadata": {},
   "outputs": [
    {
     "name": "stdout",
     "output_type": "stream",
     "text": [
      "Conversion terminée. Le fichier JSON a été créé avec succès.\n"
     ]
    }
   ],
   "source": [
    "import json\n",
    "\n",
    "# Lire le fichier texte\n",
    "with open('city.txt', 'r',  encoding='utf-8') as file:\n",
    "    lines = file.readlines()\n",
    "\n",
    "# Initialiser un dictionnaire pour stocker les données\n",
    "data = {}\n",
    "\n",
    "# Parcourir chaque ligne du fichier\n",
    "for line in lines:\n",
    "    # Diviser la ligne en ville et code postal\n",
    "    city, code = line.strip().split(' -> ')\n",
    "\n",
    "    # Extraire la province et le numéro\n",
    "    province, num = code.split('-')\n",
    "\n",
    "    # Vérifier si la province existe dans le dictionnaire, sinon l'initialiser\n",
    "    if province not in data:\n",
    "        data[province] = {}\n",
    "\n",
    "    # Ajouter la ville et le numéro au dictionnaire de la province\n",
    "    data[province][city] = num\n",
    "\n",
    "# Convertir le dictionnaire en format JSON\n",
    "json_data = json.dumps(data, indent=2, ensure_ascii=False)\n",
    "\n",
    "# Écrire le résultat dans un fichier JSON\n",
    "with open('resultat.json', 'w', encoding=\"utf-8\") as json_file:\n",
    "    json_file.write(json_data)\n",
    "\n",
    "print(\"Conversion terminée. Le fichier JSON a été créé avec succès.\")"
   ]
  }
 ],
 "metadata": {
  "kernelspec": {
   "display_name": "Python 3",
   "language": "python",
   "name": "python3"
  },
  "language_info": {
   "codemirror_mode": {
    "name": "ipython",
    "version": 3
   },
   "file_extension": ".py",
   "mimetype": "text/x-python",
   "name": "python",
   "nbconvert_exporter": "python",
   "pygments_lexer": "ipython3",
   "version": "3.9.0"
  }
 },
 "nbformat": 4,
 "nbformat_minor": 2
}
